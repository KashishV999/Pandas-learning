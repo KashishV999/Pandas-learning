{
 "cells": [
  {
   "cell_type": "markdown",
   "id": "a5bf5ab5",
   "metadata": {},
   "source": [
    "# Importing Files - working with file (dataPokemon.csv)"
   ]
  },
  {
   "cell_type": "code",
   "execution_count": 1,
   "id": "8d523b43",
   "metadata": {},
   "outputs": [],
   "source": [
    "import pandas as pd"
   ]
  },
  {
   "cell_type": "code",
   "execution_count": 54,
   "id": "8791e4d0",
   "metadata": {},
   "outputs": [
    {
     "name": "stdout",
     "output_type": "stream",
     "text": [
      "      No        Name   Type1   Type2  Height  Weight  Legendary\n",
      "0      1   Bulbasaur   Grass  Poison     0.7     6.9          0\n",
      "1      2     Ivysaur   Grass  Poison     1.0    13.0          0\n",
      "2      3    Venusaur   Grass  Poison     2.0   100.0          0\n",
      "3      4  Charmander    Fire     NaN     0.6     8.5          0\n",
      "4      5  Charmeleon    Fire     NaN     1.1    19.0          0\n",
      "..   ...         ...     ...     ...     ...     ...        ...\n",
      "150    1   Bulbasaur   Grass  Poison     0.7     6.9          0\n",
      "151    1   Bulbasaur   Grass  Poison     0.7     6.9          0\n",
      "152    1   Bulbasaur   Grass  Poison     0.7     6.9          0\n",
      "153  149   Dragonite  Dragon  Flying     2.2   210.0          0\n",
      "154  149   Dragonite  Dragon  Flying     2.2   210.0          0\n",
      "\n",
      "[155 rows x 7 columns]\n"
     ]
    }
   ],
   "source": [
    "df = pd.read_csv(\"dataPokemon.csv\")\n",
    "print(df)\n"
   ]
  },
  {
   "cell_type": "markdown",
   "id": "adead930",
   "metadata": {},
   "source": [
    "### to_string\n",
    "\n",
    "### print(df) → may truncate large DataFrames (shows only head/tail).\n",
    "### df.to_string() → prints the entire DataFrame with no truncation."
   ]
  },
  {
   "cell_type": "code",
   "execution_count": null,
   "id": "fffb650b",
   "metadata": {},
   "outputs": [],
   "source": [
    "print(df.to_string())"
   ]
  },
  {
   "cell_type": "markdown",
   "id": "8d42fcb0",
   "metadata": {},
   "source": [
    "# Selection"
   ]
  },
  {
   "cell_type": "markdown",
   "id": "23ce140b",
   "metadata": {},
   "source": [
    "## COLUMN - Single "
   ]
  },
  {
   "cell_type": "code",
   "execution_count": 6,
   "id": "1857f25a",
   "metadata": {},
   "outputs": [
    {
     "name": "stdout",
     "output_type": "stream",
     "text": [
      "0       Bulbasaur\n",
      "1         Ivysaur\n",
      "2        Venusaur\n",
      "3      Charmander\n",
      "4      Charmeleon\n",
      "          ...    \n",
      "145       Moltres\n",
      "146       Dratini\n",
      "147     Dragonair\n",
      "148     Dragonite\n",
      "149        Mewtwo\n",
      "Name: Name, Length: 150, dtype: object\n"
     ]
    }
   ],
   "source": [
    "print(df[\"Name\"])"
   ]
  },
  {
   "cell_type": "markdown",
   "id": "29c64206",
   "metadata": {},
   "source": [
    "## COLUMN - Multiple"
   ]
  },
  {
   "cell_type": "code",
   "execution_count": 7,
   "id": "b81c9bb5",
   "metadata": {},
   "outputs": [
    {
     "name": "stdout",
     "output_type": "stream",
     "text": [
      "           Name  Height  Weight\n",
      "0     Bulbasaur     0.7     6.9\n",
      "1       Ivysaur     1.0    13.0\n",
      "2      Venusaur     2.0   100.0\n",
      "3    Charmander     0.6     8.5\n",
      "4    Charmeleon     1.1    19.0\n",
      "..          ...     ...     ...\n",
      "145     Moltres     2.0    60.0\n",
      "146     Dratini     1.8     3.3\n",
      "147   Dragonair     4.0    16.5\n",
      "148   Dragonite     2.2   210.0\n",
      "149      Mewtwo     2.0   122.0\n",
      "\n",
      "[150 rows x 3 columns]\n"
     ]
    }
   ],
   "source": [
    "print(df[[\"Name\", \"Height\", \"Weight\"]])"
   ]
  },
  {
   "cell_type": "markdown",
   "id": "3f44128e",
   "metadata": {},
   "source": [
    "## Row - Single/Multiple"
   ]
  },
  {
   "cell_type": "code",
   "execution_count": 9,
   "id": "6ebae9af",
   "metadata": {},
   "outputs": [
    {
     "name": "stdout",
     "output_type": "stream",
     "text": [
      "No                   1\n",
      "Name         Bulbasaur\n",
      "Type1            Grass\n",
      "Type2           Poison\n",
      "Height             0.7\n",
      "Weight             6.9\n",
      "Legendary            0\n",
      "Name: 0, dtype: object\n"
     ]
    }
   ],
   "source": [
    "print(df.loc[0])"
   ]
  },
  {
   "cell_type": "code",
   "execution_count": 10,
   "id": "955ed090",
   "metadata": {},
   "outputs": [
    {
     "name": "stdout",
     "output_type": "stream",
     "text": [
      "      No        Name   Type1   Type2  Height  Weight  Legendary\n",
      "0      1   Bulbasaur   Grass  Poison     0.7     6.9          0\n",
      "3      4  Charmander    Fire     NaN     0.6     8.5          0\n",
      "148  149   Dragonite  Dragon  Flying     2.2   210.0          0\n"
     ]
    }
   ],
   "source": [
    "print(df.loc[[0,3, 148]])"
   ]
  },
  {
   "cell_type": "markdown",
   "id": "ca5ab5fe",
   "metadata": {},
   "source": [
    "### We can set the index by any property like name :  by using index_col and now you can locate by that property\n",
    "### df = pd.read_csv(\"dataPokemon.csv\", index_col= \"Name\")\n",
    "### df.loc[\"Pikachu\"]\n"
   ]
  },
  {
   "cell_type": "markdown",
   "id": "7d90b9c6",
   "metadata": {},
   "source": [
    "## Only Show particular properties in a row"
   ]
  },
  {
   "cell_type": "code",
   "execution_count": 11,
   "id": "63a69cc7",
   "metadata": {},
   "outputs": [
    {
     "name": "stdout",
     "output_type": "stream",
     "text": [
      "Name         Ivysaur\n",
      "Type1          Grass\n",
      "Legendary          0\n",
      "Name: 1, dtype: object\n"
     ]
    }
   ],
   "source": [
    "print(df.loc[1, [\"Name\", \"Type1\", \"Legendary\"]])"
   ]
  },
  {
   "cell_type": "markdown",
   "id": "7f8be1cb",
   "metadata": {},
   "source": [
    "## Range\n",
    "\n",
    "use iloc: [rowStart: rowEnd: step, columnStart: columnStart]"
   ]
  },
  {
   "cell_type": "code",
   "execution_count": 14,
   "id": "414d58fe",
   "metadata": {},
   "outputs": [
    {
     "name": "stdout",
     "output_type": "stream",
     "text": [
      "    No       Name  Type1   Type2  Height  Weight  Legendary\n",
      "43  44      Gloom  Grass  Poison     0.8     8.6          0\n",
      "44  45  Vileplume  Grass  Poison     1.2    18.6          0\n",
      "45  46      Paras    Bug   Grass     0.3     5.4          0\n",
      "46  47   Parasect    Bug   Grass     1.0    29.5          0\n",
      "47  48    Venonat    Bug  Poison     1.0    30.0          0\n"
     ]
    }
   ],
   "source": [
    "print(df.loc[43:47])"
   ]
  },
  {
   "cell_type": "code",
   "execution_count": 16,
   "id": "1d0ba133",
   "metadata": {},
   "outputs": [
    {
     "name": "stdout",
     "output_type": "stream",
     "text": [
      "    Type2  Height\n",
      "3     NaN     0.6\n",
      "5  Flying     1.7\n",
      "7     NaN     1.0\n",
      "9     NaN     0.3\n"
     ]
    }
   ],
   "source": [
    "print(df.iloc[3:10:2, 3:5])"
   ]
  },
  {
   "cell_type": "markdown",
   "id": "54c156e4",
   "metadata": {},
   "source": [
    "## Exercise\n",
    "\n",
    "### user type the name Pokemon and find it"
   ]
  },
  {
   "cell_type": "markdown",
   "id": "ab9abc5b",
   "metadata": {},
   "source": [
    "# Filtering In DataFrame"
   ]
  },
  {
   "cell_type": "code",
   "execution_count": 20,
   "id": "e3a8e91c",
   "metadata": {},
   "outputs": [
    {
     "name": "stdout",
     "output_type": "stream",
     "text": [
      "   No     Name  Type1   Type2  Height  Weight  Legendary\n",
      "1   2  Ivysaur  Grass  Poison     1.0    13.0          0\n"
     ]
    }
   ],
   "source": [
    "print(df[df[\"Name\"] == \"Ivysaur\"])"
   ]
  },
  {
   "cell_type": "code",
   "execution_count": 23,
   "id": "7cddd560",
   "metadata": {},
   "outputs": [
    {
     "name": "stdout",
     "output_type": "stream",
     "text": [
      "    No       Name  Type1   Type2  Height  Weight  Legendary\n",
      "44  45  Vileplume  Grass  Poison     1.2    18.6          0\n"
     ]
    }
   ],
   "source": [
    "search = input(\"Enter the pokemon name: \")\n",
    "\n",
    "try:\n",
    "    print(df[df[\"Name\"]== search])\n",
    "except KeyError:\n",
    "    print(\"Not Found\")\n"
   ]
  },
  {
   "cell_type": "code",
   "execution_count": 31,
   "id": "86e5be1c",
   "metadata": {},
   "outputs": [
    {
     "name": "stdout",
     "output_type": "stream",
     "text": [
      "      No       Name   Type1   Type2  Height  Weight  Legendary\n",
      "23    24      Arbok  Poison     NaN     3.5    65.0          0\n",
      "94    95       Onix    Rock  Ground     8.8   210.0          0\n",
      "129  130   Gyarados   Water  Flying     6.5   235.0          0\n",
      "147  148  Dragonair  Dragon     NaN     4.0    16.5          0\n"
     ]
    }
   ],
   "source": [
    "tall_pokemon= df[df[\"Height\"]>=3]\n",
    "print(tall_pokemon)"
   ]
  },
  {
   "cell_type": "markdown",
   "id": "3028e12c",
   "metadata": {},
   "source": [
    "# Aggregation \n",
    "### to summarize and analyze dataMean , sum, min , max, count"
   ]
  },
  {
   "cell_type": "code",
   "execution_count": 32,
   "id": "4b8ac9ed",
   "metadata": {},
   "outputs": [
    {
     "name": "stdout",
     "output_type": "stream",
     "text": [
      "No           75.500000\n",
      "Height        1.200000\n",
      "Weight       46.231333\n",
      "Legendary     0.026667\n",
      "dtype: float64\n"
     ]
    }
   ],
   "source": [
    "print(df.mean(numeric_only=True))"
   ]
  },
  {
   "cell_type": "code",
   "execution_count": 36,
   "id": "9657046b",
   "metadata": {},
   "outputs": [
    {
     "name": "stdout",
     "output_type": "stream",
     "text": [
      "No           11325.0\n",
      "Height         180.0\n",
      "Weight        6934.7\n",
      "Legendary        4.0\n",
      "dtype: float64\n"
     ]
    }
   ],
   "source": [
    "print(df.sum(numeric_only=True))"
   ]
  },
  {
   "cell_type": "code",
   "execution_count": 37,
   "id": "80d4da53",
   "metadata": {},
   "outputs": [
    {
     "name": "stdout",
     "output_type": "stream",
     "text": [
      "No           1.0\n",
      "Height       0.2\n",
      "Weight       0.1\n",
      "Legendary    0.0\n",
      "dtype: float64\n"
     ]
    }
   ],
   "source": [
    "print(df.min(numeric_only=True))"
   ]
  },
  {
   "cell_type": "code",
   "execution_count": 38,
   "id": "f68ca8f9",
   "metadata": {},
   "outputs": [
    {
     "name": "stdout",
     "output_type": "stream",
     "text": [
      "No           150.0\n",
      "Height         8.8\n",
      "Weight       460.0\n",
      "Legendary      1.0\n",
      "dtype: float64\n"
     ]
    }
   ],
   "source": [
    "print(df.max(numeric_only=True))"
   ]
  },
  {
   "cell_type": "code",
   "execution_count": 39,
   "id": "bcebc7d4",
   "metadata": {},
   "outputs": [
    {
     "name": "stdout",
     "output_type": "stream",
     "text": [
      "No           150\n",
      "Name         150\n",
      "Type1        150\n",
      "Type2         67\n",
      "Height       150\n",
      "Weight       150\n",
      "Legendary    150\n",
      "dtype: int64\n"
     ]
    }
   ],
   "source": [
    "print(df.count())"
   ]
  },
  {
   "cell_type": "markdown",
   "id": "29b53d02",
   "metadata": {},
   "source": [
    "## Aggregate for single column"
   ]
  },
  {
   "cell_type": "code",
   "execution_count": 34,
   "id": "a4cabf2c",
   "metadata": {},
   "outputs": [
    {
     "name": "stdout",
     "output_type": "stream",
     "text": [
      "1.2\n"
     ]
    }
   ],
   "source": [
    "print(df[\"Height\"].mean())"
   ]
  },
  {
   "cell_type": "markdown",
   "id": "0523a602",
   "metadata": {},
   "source": [
    "## GroupBy"
   ]
  },
  {
   "cell_type": "code",
   "execution_count": 40,
   "id": "dba47830",
   "metadata": {},
   "outputs": [
    {
     "name": "stdout",
     "output_type": "stream",
     "text": [
      "<pandas.core.groupby.generic.DataFrameGroupBy object at 0x10ec13f10>\n"
     ]
    }
   ],
   "source": [
    "group = df.groupby(\"Type1\")\n",
    "print(group)"
   ]
  },
  {
   "cell_type": "code",
   "execution_count": 41,
   "id": "6499fe0c",
   "metadata": {},
   "outputs": [
    {
     "name": "stdout",
     "output_type": "stream",
     "text": [
      "Type1\n",
      "Bug         0.900000\n",
      "Dragon      2.666667\n",
      "Electric    0.855556\n",
      "Fairy       0.950000\n",
      "Fighting    1.185714\n",
      "Fire        1.216667\n",
      "Ghost       1.466667\n",
      "Grass       1.083333\n",
      "Ground      0.850000\n",
      "Ice         1.550000\n",
      "Normal      0.986364\n",
      "Poison      1.221429\n",
      "Psychic     1.371429\n",
      "Rock        1.844444\n",
      "Water       1.300000\n",
      "Name: Height, dtype: float64\n"
     ]
    }
   ],
   "source": [
    "print(group[\"Height\"].mean())"
   ]
  },
  {
   "cell_type": "markdown",
   "id": "76b9dc1e",
   "metadata": {},
   "source": [
    "# Data Cleaning"
   ]
  },
  {
   "cell_type": "markdown",
   "id": "0f59474a",
   "metadata": {},
   "source": [
    "## 1. Drop Irrelevant column"
   ]
  },
  {
   "cell_type": "code",
   "execution_count": 45,
   "id": "90343a63",
   "metadata": {},
   "outputs": [
    {
     "name": "stdout",
     "output_type": "stream",
     "text": [
      "           Name    Type1   Type2  Height  Weight\n",
      "0     Bulbasaur    Grass  Poison     0.7     6.9\n",
      "1       Ivysaur    Grass  Poison     1.0    13.0\n",
      "2      Venusaur    Grass  Poison     2.0   100.0\n",
      "3    Charmander     Fire     NaN     0.6     8.5\n",
      "4    Charmeleon     Fire     NaN     1.1    19.0\n",
      "..          ...      ...     ...     ...     ...\n",
      "145     Moltres     Fire  Flying     2.0    60.0\n",
      "146     Dratini   Dragon     NaN     1.8     3.3\n",
      "147   Dragonair   Dragon     NaN     4.0    16.5\n",
      "148   Dragonite   Dragon  Flying     2.2   210.0\n",
      "149      Mewtwo  Psychic     NaN     2.0   122.0\n",
      "\n",
      "[150 rows x 5 columns]\n"
     ]
    }
   ],
   "source": [
    "df = df.drop(columns=[\"Legendary\", \"No\"])\n",
    "print(df)"
   ]
  },
  {
   "cell_type": "markdown",
   "id": "4ef14852",
   "metadata": {},
   "source": [
    "## 2. Handle Missing Data\n",
    "\n",
    "dropna() → removes rows that have missing values (NaN).\n",
    "subset → lets you specify which column(s) to check for missing values.\n",
    "👉 Only rows missing in that column (or columns) will be dropped."
   ]
  },
  {
   "cell_type": "code",
   "execution_count": null,
   "id": "eab04cc5",
   "metadata": {},
   "outputs": [],
   "source": [
    "df = df.dropna(subset=[\"Type2\"])"
   ]
  },
  {
   "cell_type": "code",
   "execution_count": 47,
   "id": "b176259f",
   "metadata": {},
   "outputs": [
    {
     "name": "stdout",
     "output_type": "stream",
     "text": [
      "           Name     Type1     Type2  Height  Weight\n",
      "0     Bulbasaur     Grass    Poison     0.7     6.9\n",
      "1       Ivysaur     Grass    Poison     1.0    13.0\n",
      "2      Venusaur     Grass    Poison     2.0   100.0\n",
      "5     Charizard      Fire    Flying     1.7    90.5\n",
      "11   Butterfree       Bug    Flying     1.1    32.0\n",
      "12       Weedle       Bug    Poison     0.3     3.2\n",
      "13       Kakuna       Bug    Poison     0.6    10.0\n",
      "14     Beedrill       Bug    Poison     1.0    29.5\n",
      "15       Pidgey    Normal    Flying     0.3     1.8\n",
      "16    Pidgeotto    Normal    Flying     1.1    30.0\n",
      "17      Pidgeot    Normal    Flying     1.5    39.5\n",
      "20      Spearow    Normal    Flying     0.3     2.0\n",
      "21       Fearow    Normal    Flying     1.2    38.0\n",
      "30    Nidoqueen    Poison    Ground     1.3    60.0\n",
      "33     Nidoking    Poison    Ground     1.4    62.0\n",
      "38   Jigglypuff    Normal     Fairy     0.5     5.5\n",
      "39   Wigglytuff    Normal     Fairy     1.0    12.0\n",
      "40        Zubat    Poison    Flying     0.8     7.5\n",
      "41       Golbat    Poison    Flying     1.6    55.0\n",
      "42       Oddish     Grass    Poison     0.5     5.4\n",
      "43        Gloom     Grass    Poison     0.8     8.6\n",
      "44    Vileplume     Grass    Poison     1.2    18.6\n",
      "45        Paras       Bug     Grass     0.3     5.4\n",
      "46     Parasect       Bug     Grass     1.0    29.5\n",
      "47      Venonat       Bug    Poison     1.0    30.0\n",
      "48     Venomoth       Bug    Poison     1.5    12.5\n",
      "61    Poliwrath     Water  Fighting     1.3    54.0\n",
      "68   Bellsprout     Grass    Poison     0.7     4.0\n",
      "69   Weepinbell     Grass    Poison     1.0     6.4\n",
      "70   Victreebel     Grass    Poison     1.7    15.5\n",
      "71    Tentacool     Water    Poison     0.9    45.5\n",
      "72   Tentacruel     Water    Poison     1.6    55.0\n",
      "73      Geodude      Rock    Ground     0.4    20.0\n",
      "74     Graveler      Rock    Ground     1.0   105.0\n",
      "75        Golem      Rock    Ground     1.4   300.0\n",
      "78     Slowpoke     Water   Psychic     1.2    36.0\n",
      "79      Slowbro     Water   Psychic     1.6    78.5\n",
      "80    Magnemite  Electric     Steel     0.3     6.0\n",
      "81     Magneton  Electric     Steel     1.0    60.0\n",
      "82   Farfetch'd    Normal    Flying     0.8    15.0\n",
      "83        Doduo    Normal    Flying     1.4    39.2\n",
      "84       Dodrio    Normal    Flying     1.8    85.2\n",
      "86      Dewgong     Water       Ice     1.7   120.0\n",
      "90     Cloyster     Water       Ice     1.5   132.5\n",
      "91       Gastly     Ghost    Poison     1.3     0.1\n",
      "92      Haunter     Ghost    Poison     1.6     0.1\n",
      "93       Gengar     Ghost    Poison     1.5    40.5\n",
      "94         Onix      Rock    Ground     8.8   210.0\n",
      "101   Exeggcute     Grass   Psychic     0.4     2.5\n",
      "102   Exeggutor     Grass   Psychic     2.0   120.0\n",
      "110     Rhyhorn    Ground      Rock     1.0   115.0\n",
      "111      Rhydon    Ground      Rock     1.9   120.0\n",
      "120     Starmie     Water   Psychic     1.1    80.0\n",
      "121    Mr. Mime   Psychic     Fairy     1.3    54.5\n",
      "122     Scyther       Bug    Flying     1.5    56.0\n",
      "123        Jynx       Ice   Psychic     1.4    40.6\n",
      "129    Gyarados     Water    Flying     6.5   235.0\n",
      "130      Lapras     Water       Ice     2.5   220.0\n",
      "137     Omanyte      Rock     Water     0.4     7.5\n",
      "138     Omastar      Rock     Water     1.0    35.0\n",
      "139      Kabuto      Rock     Water     0.5    11.5\n",
      "140    Kabutops      Rock     Water     1.3    40.5\n",
      "141  Aerodactyl      Rock    Flying     1.8    59.0\n",
      "143    Articuno       Ice    Flying     1.7    55.4\n",
      "144      Zapdos  Electric    Flying     1.6    52.6\n",
      "145     Moltres      Fire    Flying     2.0    60.0\n",
      "148   Dragonite    Dragon    Flying     2.2   210.0\n"
     ]
    }
   ],
   "source": [
    "print(df.to_string())"
   ]
  },
  {
   "cell_type": "markdown",
   "id": "f46f7b0d",
   "metadata": {},
   "source": [
    "## 3. Replace the missing values by filling\n",
    "- Replace any not available values in the column of Type2 with the folllwing values"
   ]
  },
  {
   "cell_type": "code",
   "execution_count": 49,
   "id": "027ae1f4",
   "metadata": {},
   "outputs": [
    {
     "name": "stdout",
     "output_type": "stream",
     "text": [
      "      No        Name    Type1   Type2  Height  Weight  Legendary\n",
      "0      1   Bulbasaur    Grass  Poison     0.7     6.9          0\n",
      "1      2     Ivysaur    Grass  Poison     1.0    13.0          0\n",
      "2      3    Venusaur    Grass  Poison     2.0   100.0          0\n",
      "3      4  Charmander     Fire    None     0.6     8.5          0\n",
      "4      5  Charmeleon     Fire    None     1.1    19.0          0\n",
      "..   ...         ...      ...     ...     ...     ...        ...\n",
      "145  146     Moltres     Fire  Flying     2.0    60.0          1\n",
      "146  147     Dratini   Dragon    None     1.8     3.3          0\n",
      "147  148   Dragonair   Dragon    None     4.0    16.5          0\n",
      "148  149   Dragonite   Dragon  Flying     2.2   210.0          0\n",
      "149  150      Mewtwo  Psychic    None     2.0   122.0          1\n",
      "\n",
      "[150 rows x 7 columns]\n"
     ]
    }
   ],
   "source": [
    "df = df.fillna({\"Type2\": \"None\"})\n",
    "print(df)"
   ]
  },
  {
   "cell_type": "markdown",
   "id": "c7c079a0",
   "metadata": {},
   "source": [
    "## 4. Fix Inconsistent Values"
   ]
  },
  {
   "cell_type": "code",
   "execution_count": 51,
   "id": "e2731233",
   "metadata": {},
   "outputs": [
    {
     "name": "stdout",
     "output_type": "stream",
     "text": [
      "      No        Name    Type1   Type2  Height  Weight  Legendary     Type\n",
      "0      1   Bulbasaur    GRASS  Poison     0.7     6.9          0    GRASS\n",
      "1      2     Ivysaur    GRASS  Poison     1.0    13.0          0    GRASS\n",
      "2      3    Venusaur    GRASS  Poison     2.0   100.0          0    GRASS\n",
      "3      4  Charmander     Fire    None     0.6     8.5          0     Fire\n",
      "4      5  Charmeleon     Fire    None     1.1    19.0          0     Fire\n",
      "..   ...         ...      ...     ...     ...     ...        ...      ...\n",
      "145  146     Moltres     Fire  Flying     2.0    60.0          1     Fire\n",
      "146  147     Dratini   Dragon    None     1.8     3.3          0   Dragon\n",
      "147  148   Dragonair   Dragon    None     4.0    16.5          0   Dragon\n",
      "148  149   Dragonite   Dragon  Flying     2.2   210.0          0   Dragon\n",
      "149  150      Mewtwo  Psychic    None     2.0   122.0          1  Psychic\n",
      "\n",
      "[150 rows x 8 columns]\n"
     ]
    }
   ],
   "source": [
    "df[\"Type1\"]= df[\"Type1\"].replace({\"Grass\": \"GRASS\"})\n",
    "print(df)"
   ]
  },
  {
   "cell_type": "markdown",
   "id": "108b3219",
   "metadata": {},
   "source": [
    "## 5. Standardize Text"
   ]
  },
  {
   "cell_type": "code",
   "execution_count": 52,
   "id": "e045d02b",
   "metadata": {},
   "outputs": [
    {
     "name": "stdout",
     "output_type": "stream",
     "text": [
      "      No        Name    Type1   Type2  Height  Weight  Legendary     Type\n",
      "0      1   Bulbasaur    GRASS  POISON     0.7     6.9          0    GRASS\n",
      "1      2     Ivysaur    GRASS  POISON     1.0    13.0          0    GRASS\n",
      "2      3    Venusaur    GRASS  POISON     2.0   100.0          0    GRASS\n",
      "3      4  Charmander     Fire    NONE     0.6     8.5          0     Fire\n",
      "4      5  Charmeleon     Fire    NONE     1.1    19.0          0     Fire\n",
      "..   ...         ...      ...     ...     ...     ...        ...      ...\n",
      "145  146     Moltres     Fire  FLYING     2.0    60.0          1     Fire\n",
      "146  147     Dratini   Dragon    NONE     1.8     3.3          0   Dragon\n",
      "147  148   Dragonair   Dragon    NONE     4.0    16.5          0   Dragon\n",
      "148  149   Dragonite   Dragon  FLYING     2.2   210.0          0   Dragon\n",
      "149  150      Mewtwo  Psychic    NONE     2.0   122.0          1  Psychic\n",
      "\n",
      "[150 rows x 8 columns]\n"
     ]
    }
   ],
   "source": [
    "df[\"Type2\"]= df[\"Type2\"].str.upper()\n",
    "print(df)"
   ]
  },
  {
   "cell_type": "markdown",
   "id": "eec730e5",
   "metadata": {},
   "source": [
    "## 6. Fix/Change data types"
   ]
  },
  {
   "cell_type": "code",
   "execution_count": 53,
   "id": "179ef36a",
   "metadata": {},
   "outputs": [
    {
     "name": "stdout",
     "output_type": "stream",
     "text": [
      "      No        Name    Type1   Type2  Height  Weight  Legendary     Type\n",
      "0      1   Bulbasaur    GRASS  POISON     0.7     6.9      False    GRASS\n",
      "1      2     Ivysaur    GRASS  POISON     1.0    13.0      False    GRASS\n",
      "2      3    Venusaur    GRASS  POISON     2.0   100.0      False    GRASS\n",
      "3      4  Charmander     Fire    NONE     0.6     8.5      False     Fire\n",
      "4      5  Charmeleon     Fire    NONE     1.1    19.0      False     Fire\n",
      "..   ...         ...      ...     ...     ...     ...        ...      ...\n",
      "145  146     Moltres     Fire  FLYING     2.0    60.0       True     Fire\n",
      "146  147     Dratini   Dragon    NONE     1.8     3.3      False   Dragon\n",
      "147  148   Dragonair   Dragon    NONE     4.0    16.5      False   Dragon\n",
      "148  149   Dragonite   Dragon  FLYING     2.2   210.0      False   Dragon\n",
      "149  150      Mewtwo  Psychic    NONE     2.0   122.0       True  Psychic\n",
      "\n",
      "[150 rows x 8 columns]\n"
     ]
    }
   ],
   "source": [
    "df[\"Legendary\"]=df[\"Legendary\"].astype(bool)\n",
    "print(df)"
   ]
  },
  {
   "cell_type": "markdown",
   "id": "08567b5f",
   "metadata": {},
   "source": [
    "## 7. Remove Duplicate Values"
   ]
  },
  {
   "cell_type": "code",
   "execution_count": 55,
   "id": "22c26525",
   "metadata": {},
   "outputs": [
    {
     "name": "stdout",
     "output_type": "stream",
     "text": [
      "      No        Name    Type1   Type2  Height  Weight  Legendary\n",
      "0      1   Bulbasaur    Grass  Poison     0.7     6.9          0\n",
      "1      2     Ivysaur    Grass  Poison     1.0    13.0          0\n",
      "2      3    Venusaur    Grass  Poison     2.0   100.0          0\n",
      "3      4  Charmander     Fire     NaN     0.6     8.5          0\n",
      "4      5  Charmeleon     Fire     NaN     1.1    19.0          0\n",
      "..   ...         ...      ...     ...     ...     ...        ...\n",
      "145  146     Moltres     Fire  Flying     2.0    60.0          1\n",
      "146  147     Dratini   Dragon     NaN     1.8     3.3          0\n",
      "147  148   Dragonair   Dragon     NaN     4.0    16.5          0\n",
      "148  149   Dragonite   Dragon  Flying     2.2   210.0          0\n",
      "149  150      Mewtwo  Psychic     NaN     2.0   122.0          1\n",
      "\n",
      "[150 rows x 7 columns]\n"
     ]
    }
   ],
   "source": [
    "df = df.drop_duplicates()\n",
    "print(df)"
   ]
  }
 ],
 "metadata": {
  "kernelspec": {
   "display_name": ".venv (3.9.6)",
   "language": "python",
   "name": "python3"
  },
  "language_info": {
   "codemirror_mode": {
    "name": "ipython",
    "version": 3
   },
   "file_extension": ".py",
   "mimetype": "text/x-python",
   "name": "python",
   "nbconvert_exporter": "python",
   "pygments_lexer": "ipython3",
   "version": "3.9.6"
  }
 },
 "nbformat": 4,
 "nbformat_minor": 5
}
