{
 "cells": [
  {
   "cell_type": "markdown",
   "id": "90b6bae4",
   "metadata": {},
   "source": [
    "# Series"
   ]
  },
  {
   "cell_type": "code",
   "execution_count": 33,
   "id": "0010e759",
   "metadata": {},
   "outputs": [],
   "source": [
    "import pandas as pd"
   ]
  },
  {
   "cell_type": "markdown",
   "id": "1d0f135b",
   "metadata": {},
   "source": [
    "# Series"
   ]
  },
  {
   "cell_type": "code",
   "execution_count": null,
   "id": "6310c383",
   "metadata": {},
   "outputs": [
    {
     "name": "stdout",
     "output_type": "stream",
     "text": [
      "a    101\n",
      "b    102\n",
      "c    107\n",
      "d    150\n",
      "e    165\n",
      "f    230\n",
      "dtype: int64\n"
     ]
    }
   ],
   "source": [
    "data = [101, 102, 107, 150, 165, 230]\n",
    "\n",
    "## can also without specifying index (default index will be 0, 1, 2 ...)\n",
    "series = pd.Series(data, index=[\"a\", \"b\", \"c\", \"d\", \"e\", \"f\"])\n",
    "\n",
    "print(series)"
   ]
  },
  {
   "cell_type": "markdown",
   "id": "a5f4bbc5",
   "metadata": {},
   "source": [
    "## Accessing Elements (loc vs iloc)"
   ]
  },
  {
   "cell_type": "code",
   "execution_count": 46,
   "id": "56fd75cd",
   "metadata": {},
   "outputs": [
    {
     "name": "stdout",
     "output_type": "stream",
     "text": [
      "107\n"
     ]
    }
   ],
   "source": [
    "print(series.loc[\"c\"])"
   ]
  },
  {
   "cell_type": "code",
   "execution_count": 47,
   "id": "9d7407cf",
   "metadata": {},
   "outputs": [
    {
     "name": "stdout",
     "output_type": "stream",
     "text": [
      "102\n"
     ]
    }
   ],
   "source": [
    "print(series.iloc[1])"
   ]
  },
  {
   "cell_type": "markdown",
   "id": "b530e3a9",
   "metadata": {},
   "source": [
    "## Filtering"
   ]
  },
  {
   "cell_type": "code",
   "execution_count": 48,
   "id": "eee1afbc",
   "metadata": {},
   "outputs": [
    {
     "name": "stdout",
     "output_type": "stream",
     "text": [
      "d    150\n",
      "e    165\n",
      "f    230\n",
      "dtype: int64\n"
     ]
    }
   ],
   "source": [
    "print(series[series >= 150])"
   ]
  },
  {
   "cell_type": "markdown",
   "id": "a0becadc",
   "metadata": {},
   "source": [
    "## Series from a Dictionary"
   ]
  },
  {
   "cell_type": "code",
   "execution_count": 49,
   "id": "0c8beb79",
   "metadata": {},
   "outputs": [],
   "source": [
    "shopping= {\"bag\": 230, \"top\":56, \"lipgloss\":10, \"lipliner\": 70 }"
   ]
  },
  {
   "cell_type": "code",
   "execution_count": 50,
   "id": "744d9c8d",
   "metadata": {},
   "outputs": [],
   "source": [
    "series_shop= pd.Series(shopping)"
   ]
  },
  {
   "cell_type": "code",
   "execution_count": 51,
   "id": "3ec9699d",
   "metadata": {},
   "outputs": [
    {
     "name": "stdout",
     "output_type": "stream",
     "text": [
      "bag         230\n",
      "top          56\n",
      "lipgloss     10\n",
      "lipliner     70\n",
      "dtype: int64\n"
     ]
    }
   ],
   "source": [
    "print(series_shop)"
   ]
  },
  {
   "cell_type": "code",
   "execution_count": 52,
   "id": "c2a4b4e4",
   "metadata": {},
   "outputs": [
    {
     "name": "stdout",
     "output_type": "stream",
     "text": [
      "56\n"
     ]
    }
   ],
   "source": [
    "print(series_shop.loc[\"top\"])"
   ]
  },
  {
   "cell_type": "markdown",
   "id": "f929016c",
   "metadata": {},
   "source": [
    "# DataFrames"
   ]
  },
  {
   "cell_type": "code",
   "execution_count": 53,
   "id": "01b3d664",
   "metadata": {},
   "outputs": [
    {
     "name": "stdout",
     "output_type": "stream",
     "text": [
      "      Name  Age  Amount\n",
      "0      Joe   23     456\n",
      "1      Bob   56     675\n",
      "2    Harry   78     100\n",
      "3  Spencer   21     546\n",
      "4  Charlie   54     300\n"
     ]
    }
   ],
   "source": [
    "dataF= {\n",
    "    \"Name\":[\"Joe\", \"Bob\", \"Harry\", \"Spencer\", \"Charlie\"],\n",
    "    \"Age\":[23,56,78,21,54],\n",
    "    \"Amount\":[456, 675, 100, 546, 300]\n",
    "}\n",
    "\n",
    "df= pd.DataFrame(dataF)\n",
    "\n",
    "print(df)"
   ]
  },
  {
   "cell_type": "code",
   "execution_count": 55,
   "id": "1c074c82",
   "metadata": {},
   "outputs": [
    {
     "name": "stdout",
     "output_type": "stream",
     "text": [
      "             Name  Age  Amount\n",
      "Person01      Joe   23     456\n",
      "Person02      Bob   56     675\n",
      "Person03    Harry   78     100\n",
      "Person04  Spencer   21     546\n",
      "Person05  Charlie   54     300\n"
     ]
    }
   ],
   "source": [
    "dataFwithCustomIndex= {\n",
    "    \"Name\":[\"Joe\", \"Bob\", \"Harry\", \"Spencer\", \"Charlie\"],\n",
    "    \"Age\":[23,56,78,21,54],\n",
    "    \"Amount\":[456, 675, 100, 546, 300]\n",
    "}\n",
    "\n",
    "dfI= pd.DataFrame(dataFwithCustomIndex, index=[\"Person01\", \"Person02\", \"Person03\", \"Person04\", \"Person05\"])\n",
    "\n",
    "print(dfI)"
   ]
  },
  {
   "cell_type": "code",
   "execution_count": 57,
   "id": "1ad0bc69",
   "metadata": {},
   "outputs": [
    {
     "name": "stdout",
     "output_type": "stream",
     "text": [
      "Name      Joe\n",
      "Age        23\n",
      "Amount    456\n",
      "Name: Person01, dtype: object\n"
     ]
    }
   ],
   "source": [
    "print(dfI.loc[\"Person01\"])"
   ]
  },
  {
   "cell_type": "markdown",
   "id": "b126acb6",
   "metadata": {},
   "source": [
    "## Add a New Column"
   ]
  },
  {
   "cell_type": "code",
   "execution_count": 58,
   "id": "0d60bebc",
   "metadata": {},
   "outputs": [],
   "source": [
    "df[\"IsBillPaid\"]=[\"Yes\", \"No\", \"Yes\", \"No\", \"No\"]"
   ]
  },
  {
   "cell_type": "code",
   "execution_count": 59,
   "id": "b281a168",
   "metadata": {},
   "outputs": [
    {
     "name": "stdout",
     "output_type": "stream",
     "text": [
      "      Name  Age  Amount IsBillPaid\n",
      "0      Joe   23     456        Yes\n",
      "1      Bob   56     675         No\n",
      "2    Harry   78     100        Yes\n",
      "3  Spencer   21     546         No\n",
      "4  Charlie   54     300         No\n"
     ]
    }
   ],
   "source": [
    "print(df)"
   ]
  },
  {
   "cell_type": "markdown",
   "id": "81bd4002",
   "metadata": {},
   "source": [
    "## Add a new Row"
   ]
  },
  {
   "cell_type": "code",
   "execution_count": 62,
   "id": "49e536dc",
   "metadata": {},
   "outputs": [
    {
     "name": "stdout",
     "output_type": "stream",
     "text": [
      "       Name  Age  Amount IsBillPaid\n",
      "0       Joe   23     456        Yes\n",
      "1       Bob   56     675         No\n",
      "2     Harry   78     100        Yes\n",
      "3   Spencer   21     546         No\n",
      "4   Charlie   54     300         No\n",
      "5      Kash   20     450        Yes\n",
      "6    Steele   56     700        Yes\n",
      "7     Yonge   76     500         No\n",
      "8      Kash   20     450        Yes\n",
      "9    Steele   56     700        Yes\n",
      "10    Yonge   76     500         No\n"
     ]
    }
   ],
   "source": [
    "new_row = pd.DataFrame([\n",
    "    {\"Name\": \"Kash\", \"Age\": 20, \"Amount\":450, \"IsBillPaid\":\"Yes\"},\n",
    "    {\"Name\": \"Steele\", \"Age\": 56, \"Amount\":700, \"IsBillPaid\":\"Yes\"},\n",
    "    {\"Name\": \"Yonge\", \"Age\": 76, \"Amount\":500, \"IsBillPaid\":\"No\"},\n",
    "    ]) \n",
    "\n",
    "df= pd.concat([df, new_row], ignore_index=True)\n",
    "\n",
    "print(df)"
   ]
  }
 ],
 "metadata": {
  "kernelspec": {
   "display_name": ".venv (3.9.6)",
   "language": "python",
   "name": "python3"
  },
  "language_info": {
   "codemirror_mode": {
    "name": "ipython",
    "version": 3
   },
   "file_extension": ".py",
   "mimetype": "text/x-python",
   "name": "python",
   "nbconvert_exporter": "python",
   "pygments_lexer": "ipython3",
   "version": "3.9.6"
  }
 },
 "nbformat": 4,
 "nbformat_minor": 5
}
